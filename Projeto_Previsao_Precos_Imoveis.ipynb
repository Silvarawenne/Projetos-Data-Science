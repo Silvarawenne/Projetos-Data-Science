{
  "nbformat": 4,
  "nbformat_minor": 0,
  "metadata": {
    "colab": {
      "provenance": [],
      "authorship_tag": "ABX9TyMOtSnvq3b1J3H13DJQFoiz",
      "include_colab_link": true
    },
    "kernelspec": {
      "name": "python3",
      "display_name": "Python 3"
    },
    "language_info": {
      "name": "python"
    }
  },
  "cells": [
    {
      "cell_type": "markdown",
      "metadata": {
        "id": "view-in-github",
        "colab_type": "text"
      },
      "source": [
        "<a href=\"https://colab.research.google.com/github/Silvarawenne/Projetos-Data-Science/blob/main/Projeto_Previsao_Precos_Imoveis.ipynb\" target=\"_parent\"><img src=\"https://colab.research.google.com/assets/colab-badge.svg\" alt=\"Open In Colab\"/></a>"
      ]
    },
    {
      "cell_type": "markdown",
      "source": [
        "# Projeto 1: Previsão de Preços de Imóveis\n",
        "Este projeto utiliza o dataset Ames Housing do Kaggle para construir um modelo de machine learning que prevê o preço de venda de casas."
      ],
      "metadata": {
        "id": "o3Q50KDw9-qR"
      }
    },
    {
      "cell_type": "code",
      "execution_count": null,
      "metadata": {
        "id": "Efbgji5K1WGh",
        "collapsed": true
      },
      "outputs": [],
      "source": [
        "from google.colab import files\n",
        "files.upload()"
      ]
    },
    {
      "cell_type": "code",
      "source": [
        "# Cria a pasta .kaggle, move o arquivo e define as permissões\n",
        "!mkdir -p ~/.kaggle\n",
        "!mv kaggle.json ~/.kaggle/\n",
        "!chmod 600 ~/.kaggle/kaggle.json"
      ],
      "metadata": {
        "id": "ShXB18yF2DFe"
      },
      "execution_count": null,
      "outputs": []
    },
    {
      "cell_type": "code",
      "source": [
        "!kaggle competitions download -c house-prices-advanced-regression-techniques"
      ],
      "metadata": {
        "id": "2Dym_aQ92FaL"
      },
      "execution_count": null,
      "outputs": []
    },
    {
      "cell_type": "code",
      "source": [
        "# Desconpactando arquivo .zip\n",
        "\n",
        "!unzip house-prices-advanced-regression-techniques.zip"
      ],
      "metadata": {
        "id": "fVTmQPzh2VJD"
      },
      "execution_count": null,
      "outputs": []
    },
    {
      "cell_type": "code",
      "source": [
        "#Importando panda e carregando arquivos de treino para um DataFrame\n",
        "\n",
        "import pandas as pd\n",
        "\n",
        "df = pd.read_csv('train.csv')\n",
        "\n",
        "print(\"Dados de treino carregados!As 5 primeiras linhas são:\")\n",
        "df.head()"
      ],
      "metadata": {
        "id": "_jKGlNz62d7H"
      },
      "execution_count": null,
      "outputs": []
    },
    {
      "cell_type": "code",
      "source": [
        "# Mostrando um resumo técnico da lista\n",
        "\n",
        "print(\"/nResumo técnico do DataFrame:\")\n",
        "df.info()"
      ],
      "metadata": {
        "id": "aRPyIS7x5HOH"
      },
      "execution_count": null,
      "outputs": []
    },
    {
      "cell_type": "code",
      "source": [
        "# Mostra as estatiscas descritivas\n",
        "print(\"Estatisticas do preço de venda (salePrice):\")\n",
        "df['SalePrice'].describe()"
      ],
      "metadata": {
        "id": "DHNcvVux6Br-"
      },
      "execution_count": null,
      "outputs": []
    },
    {
      "cell_type": "code",
      "source": [
        "# Criando um gráfico para ver a distribuição de coluna \"salePrices\"\n",
        "import seaborn as sns\n",
        "import matplotlib.pyplot as plt\n",
        "\n",
        "\n",
        "plt.figure(figsize=(10, 6))\n",
        "sns.histplot(df['SalePrice'], kde=True, bins=50)\n",
        "plt.title('Distribuição dos preços de venda (SalePrice)', fontsize=16)\n",
        "plt.xlabel('Preço de venda(USD)')\n",
        "plt.ylabel('Frequência (Número de casas)')\n",
        "plt.show()"
      ],
      "metadata": {
        "id": "3sLFec6w6a6Y"
      },
      "execution_count": null,
      "outputs": []
    },
    {
      "cell_type": "code",
      "source": [
        "# Aplicando e transformando log na coluna salesprice e após isso criando uma figura com dois gráficos lado a lado\n",
        "\n",
        "import numpy as np\n",
        "df['SalePrice_log'] = np.log1p(df['SalePrice'])\n",
        "\n",
        "fig, axes = plt.subplots(1,2,figsize=(15, 6))\n",
        "\n",
        "sns.histplot(df['SalePrice'], kde= True, ax=axes[0])\n",
        "axes[0].set_title('Distribuição Original de SalePrice')\n",
        "axes[0].set_xlabel('Preço das vendas USD')\n",
        "\n",
        "sns.histplot(df['SalePrice_log'], kde=True, ax=axes[1], color='green')\n",
        "axes[1].set_title('Distribuição de SalePrice após Transformação Logaritmica')\n",
        "axes[1].set_xlabel('Log dp preço de venda')\n",
        "plt.show()\n"
      ],
      "metadata": {
        "id": "1bMPg5VZH36q"
      },
      "execution_count": null,
      "outputs": []
    },
    {
      "cell_type": "markdown",
      "source": [
        "## Análise Exploratória: Encontrando as Melhores Pistas\n",
        "A seguir, investigamos a correlação entre as características da casa e o preço de venda."
      ],
      "metadata": {
        "id": "v0gPguxh-PIk"
      }
    },
    {
      "cell_type": "code",
      "source": [
        "import pandas as pd\n",
        "import seaborn as sns\n",
        "import matplotlib.pyplot as plt\n",
        "\n",
        "correlacoes = df.select_dtypes(include=['number']).corr()\n",
        "\n",
        "print(\"Top 10 features mais correlacionados com o preço de venda:\")\n",
        "print(correlacoes['SalePrice'].sort_values(ascending=False).head(11))"
      ],
      "metadata": {
        "id": "P5T6MAsft0o9"
      },
      "execution_count": null,
      "outputs": []
    },
    {
      "cell_type": "code",
      "source": [
        "top_10_features = correlacoes['SalePrice'].sort_values(ascending=False).head(11).index\n",
        "top_10_corr_matrix = df[top_10_features].corr()\n",
        "\n",
        "plt.figure(figsize=(12, 10))\n",
        "sns.heatmap(top_10_corr_matrix, annot=True, cmap='coolwarm', fmt='.2f', linewidths=.5)\n",
        "plt.title('Mapa de calor da 10 features mais correlacionadas com SalePrice', fontsize=16)\n",
        "plt.show()"
      ],
      "metadata": {
        "id": "C7ifqp0RvOPX"
      },
      "execution_count": null,
      "outputs": []
    },
    {
      "cell_type": "code",
      "source": [
        "plt.figure(figsize=(12, 8))\n",
        "sns.boxplot(x='OverallQual', y='SalePrice', data=df, palette='coolwarm')\n",
        "plt.title('Preço de venda VS. qualidade Geral da Casa', fontsize=16)\n",
        "plt.xlabel('Qualidade Geral da casa (1=Muito Ruim. 10=Excelente)')\n",
        "plt.ylabel('Preço de venda (USD)')\n",
        "plt.show()\n"
      ],
      "metadata": {
        "id": "PNcWh9EHx-t3"
      },
      "execution_count": null,
      "outputs": []
    },
    {
      "cell_type": "code",
      "source": [
        "plt.figure(figsize=(12, 8))\n",
        "sns.scatterplot(x='GrLivArea', y='SalePrice', data=df)\n",
        "plt.title('Preço de venda VS. Área de Estar', fontsize=16)\n",
        "plt.xlabel('Área de estar(Pés quadrados)')\n",
        "plt.ylabel('Preço de venda (USD)')\n",
        "plt.show()"
      ],
      "metadata": {
        "id": "wkLaKMp4zGkS"
      },
      "execution_count": null,
      "outputs": []
    },
    {
      "cell_type": "code",
      "source": [
        "#-------------PREPARANDO O MODELO---------------\n",
        "features_selecionadas= [\n",
        "    'OverallQual',\n",
        "    'GrLivArea',\n",
        "    'GarageCars',\n",
        "    'GarageArea',\n",
        "    'TotalBsmtSF',\n",
        "    'FullBath',\n",
        "    'YearBuilt'\n",
        "]\n",
        "\n",
        "df_modelo = df[features_selecionadas + ['SalePrice']]\n",
        "\n",
        "print(\"Verificando dados faltantes nas features selecionadas:\")\n",
        "df_modelo.isnull().sum()"
      ],
      "metadata": {
        "id": "LzmtWNik1N_g"
      },
      "execution_count": null,
      "outputs": []
    },
    {
      "cell_type": "code",
      "source": [
        "from re import X\n",
        "from sklearn.model_selection import train_test_split\n",
        "\n",
        "# separando as features do nosso target\n",
        "X = df_modelo[features_selecionadas]\n",
        "y = df_modelo['SalePrice']\n",
        "\n",
        "X_train, X_test, y_train, y_test = train_test_split(X, y, test_size=0.2, random_state=42)\n",
        "print(\"Dados divididos com sucesso!\")\n",
        "print(f\"Temos {len(X_train)} casas para treinar o modelo\")\n",
        "print(f\"Temos {len(X_test)} casas para testar o modelo\")"
      ],
      "metadata": {
        "id": "w1JaQVuk2hiJ"
      },
      "execution_count": null,
      "outputs": []
    },
    {
      "cell_type": "code",
      "source": [
        "from sklearn.ensemble import RandomForestRegressor\n",
        "from sklearn.metrics import mean_absolute_error\n",
        "\n",
        "#criando o modelo de floresta aleatória\n",
        "modelo = RandomForestRegressor(n_estimators=100, random_state=42)\n",
        "\n",
        "#Treinando p modelo com os dados de treino\n",
        "print(\"Treinando o modelo...(Isso pode levar alguns segundos)\")\n",
        "modelo.fit(X_train, y_train)\n",
        "print(\"Modelo treinado com sucesso!\")\n",
        "\n",
        "print(\"Fazendo previsões nos dados de teste...\")\n",
        "previsoes = modelo.predict(X_test)\n",
        "\n",
        "mae = mean_absolute_error(y_test, previsoes)\n",
        "\n",
        "print(\"---Resultado Final ---\")\n",
        "print(f\"O erro absoluto (mae) do nosso modelo é: ${mae:,.2f}\")\n",
        "print(\"Isso significa que, na média, as previsões dos preços do nosso modelo erram este valor (para mais ou para menos) em relação ao preço real de casa.\")"
      ],
      "metadata": {
        "id": "5MovuKAH5ga2"
      },
      "execution_count": null,
      "outputs": []
    }
  ]
}